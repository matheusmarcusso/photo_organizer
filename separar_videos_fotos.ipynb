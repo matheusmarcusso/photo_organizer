{
 "cells": [
  {
   "cell_type": "code",
   "execution_count": 1,
   "id": "b780b2bf",
   "metadata": {},
   "outputs": [],
   "source": [
    "import os\n",
    "import shutil\n"
   ]
  },
  {
   "cell_type": "code",
   "execution_count": 2,
   "id": "b38951ca",
   "metadata": {},
   "outputs": [],
   "source": [
    "\n",
    "# Defina o diretório raiz que contém todas as pastas e arquivos\n",
    "diretorio_raiz = \"C:/Users/mathe/OneDrive/0 - Organizadas/Por ano/Whatsapp/2017\"\n"
   ]
  },
  {
   "cell_type": "code",
   "execution_count": 4,
   "id": "c17b7c25",
   "metadata": {},
   "outputs": [],
   "source": [
    "# Percorra todos os diretórios e arquivos no diretório raiz\n",
    "for pasta_atual, sub_pastas, arquivos in os.walk(diretorio_raiz):\n",
    "\n",
    "    # Percorra todos os arquivos na pasta atual\n",
    "    for nome_arquivo in arquivos:\n",
    "\n",
    "        # Obtenha o caminho completo do arquivo\n",
    "        caminho_arquivo = os.path.join(pasta_atual, nome_arquivo)\n",
    "\n",
    "        # Verifique se o arquivo é um vídeo ou uma foto com base em sua extensão\n",
    "        if caminho_arquivo.endswith(('.mp4', '.avi', '.mov')):\n",
    "            # Verifique se a pasta de vídeo já existe na pasta atual\n",
    "            pasta_video = os.path.join(pasta_atual, \"videos\")\n",
    "            if not os.path.exists(pasta_video):\n",
    "                # Crie a pasta de vídeo se ela não existir\n",
    "                os.makedirs(pasta_video)\n",
    "\n",
    "            # Mova o arquivo para a pasta de vídeo\n",
    "            shutil.move(caminho_arquivo, pasta_video)\n",
    "        elif caminho_arquivo.endswith(('.jpg', '.png', '.gif','.jpeg')):\n",
    "            # Verifique se a pasta de foto já existe na pasta atual\n",
    "            pasta_foto = os.path.join(pasta_atual, \"fotos\")\n",
    "            if not os.path.exists(pasta_foto):\n",
    "                # Crie a pasta de foto se ela não existir\n",
    "                os.makedirs(pasta_foto)\n",
    "\n",
    "            # Mova o arquivo para a pasta de foto\n",
    "            shutil.move(caminho_arquivo, pasta_foto)"
   ]
  },
  {
   "cell_type": "code",
   "execution_count": null,
   "id": "0cbb9cad",
   "metadata": {},
   "outputs": [],
   "source": []
  }
 ],
 "metadata": {
  "kernelspec": {
   "display_name": "Python 3 (ipykernel)",
   "language": "python",
   "name": "python3"
  },
  "language_info": {
   "codemirror_mode": {
    "name": "ipython",
    "version": 3
   },
   "file_extension": ".py",
   "mimetype": "text/x-python",
   "name": "python",
   "nbconvert_exporter": "python",
   "pygments_lexer": "ipython3",
   "version": "3.8.8"
  }
 },
 "nbformat": 4,
 "nbformat_minor": 5
}
